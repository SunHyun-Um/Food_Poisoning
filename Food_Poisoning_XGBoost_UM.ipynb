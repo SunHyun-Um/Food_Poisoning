{
 "cells": [
  {
   "cell_type": "markdown",
   "metadata": {},
   "source": [
    "# 대구광역시 식중독 발생 예측 및 예방대책 마련 (XGBoost, 엄선현)"
   ]
  },
  {
   "cell_type": "code",
   "execution_count": 39,
   "metadata": {},
   "outputs": [],
   "source": [
    "import xgboost as xgb ## XGBoost 불러오기\n",
    "from xgboost import plot_importance ## Feature Importance를 불러오기 위함\n",
    "import pandas as pd\n",
    "import numpy as np\n",
    "from sklearn.datasets import load_breast_cancer\n",
    "from sklearn.model_selection import train_test_split\n",
    "from sklearn.metrics import confusion_matrix, accuracy_score, precision_score, recall_score\n",
    "from sklearn.metrics import confusion_matrix, f1_score, roc_auc_score\n",
    "import warnings\n",
    "warnings.filterwarnings('ignore')"
   ]
  },
  {
   "cell_type": "code",
   "execution_count": 40,
   "metadata": {},
   "outputs": [],
   "source": [
    "pd.set_option('display.max_columns', 100)\n",
    "pd.set_option('display.max_row', 100)"
   ]
  },
  {
   "cell_type": "code",
   "execution_count": 41,
   "metadata": {},
   "outputs": [],
   "source": [
    "data = pd.read_csv(\"/Users/um/Desktop/식중독/데이터/식중독_전체_예측데이터.csv\", engine='python', encoding='cp949')"
   ]
  },
  {
   "cell_type": "code",
   "execution_count": 42,
   "metadata": {},
   "outputs": [
    {
     "data": {
      "text/html": [
       "<div>\n",
       "<style scoped>\n",
       "    .dataframe tbody tr th:only-of-type {\n",
       "        vertical-align: middle;\n",
       "    }\n",
       "\n",
       "    .dataframe tbody tr th {\n",
       "        vertical-align: top;\n",
       "    }\n",
       "\n",
       "    .dataframe thead th {\n",
       "        text-align: right;\n",
       "    }\n",
       "</style>\n",
       "<table border=\"1\" class=\"dataframe\">\n",
       "  <thead>\n",
       "    <tr style=\"text-align: right;\">\n",
       "      <th></th>\n",
       "      <th>년</th>\n",
       "      <th>월</th>\n",
       "      <th>계절</th>\n",
       "      <th>평균기온</th>\n",
       "      <th>최고기온</th>\n",
       "      <th>최저기온</th>\n",
       "      <th>평균운량</th>\n",
       "      <th>일강수량</th>\n",
       "      <th>일조시간</th>\n",
       "      <th>상대습도</th>\n",
       "      <th>평균풍속</th>\n",
       "      <th>월_1</th>\n",
       "      <th>월_2</th>\n",
       "      <th>월_3</th>\n",
       "      <th>월_4</th>\n",
       "      <th>월_5</th>\n",
       "      <th>월_6</th>\n",
       "      <th>월_7</th>\n",
       "      <th>월_8</th>\n",
       "      <th>월_9</th>\n",
       "      <th>월_10</th>\n",
       "      <th>월_11</th>\n",
       "      <th>월_12</th>\n",
       "      <th>중구</th>\n",
       "      <th>동구</th>\n",
       "      <th>서구</th>\n",
       "      <th>북구</th>\n",
       "      <th>남구</th>\n",
       "      <th>수성구</th>\n",
       "      <th>달서구</th>\n",
       "      <th>달성군</th>\n",
       "      <th>발생여부</th>\n",
       "    </tr>\n",
       "  </thead>\n",
       "  <tbody>\n",
       "    <tr>\n",
       "      <th>0</th>\n",
       "      <td>2015</td>\n",
       "      <td>1</td>\n",
       "      <td>겨울</td>\n",
       "      <td>2.270968</td>\n",
       "      <td>6.812903</td>\n",
       "      <td>-1.719355</td>\n",
       "      <td>4.919760</td>\n",
       "      <td>0.777419</td>\n",
       "      <td>6.706452</td>\n",
       "      <td>56.574194</td>\n",
       "      <td>2.032258</td>\n",
       "      <td>1</td>\n",
       "      <td>0</td>\n",
       "      <td>0</td>\n",
       "      <td>0</td>\n",
       "      <td>0</td>\n",
       "      <td>0</td>\n",
       "      <td>0</td>\n",
       "      <td>0</td>\n",
       "      <td>0</td>\n",
       "      <td>0</td>\n",
       "      <td>0</td>\n",
       "      <td>0</td>\n",
       "      <td>1</td>\n",
       "      <td>1</td>\n",
       "      <td>0</td>\n",
       "      <td>0</td>\n",
       "      <td>1</td>\n",
       "      <td>0</td>\n",
       "      <td>0</td>\n",
       "      <td>0</td>\n",
       "      <td>1</td>\n",
       "    </tr>\n",
       "    <tr>\n",
       "      <th>1</th>\n",
       "      <td>2015</td>\n",
       "      <td>2</td>\n",
       "      <td>겨울</td>\n",
       "      <td>3.832143</td>\n",
       "      <td>9.035714</td>\n",
       "      <td>-0.589286</td>\n",
       "      <td>4.919760</td>\n",
       "      <td>0.521429</td>\n",
       "      <td>6.982143</td>\n",
       "      <td>52.585714</td>\n",
       "      <td>2.246429</td>\n",
       "      <td>0</td>\n",
       "      <td>1</td>\n",
       "      <td>0</td>\n",
       "      <td>0</td>\n",
       "      <td>0</td>\n",
       "      <td>0</td>\n",
       "      <td>0</td>\n",
       "      <td>0</td>\n",
       "      <td>0</td>\n",
       "      <td>0</td>\n",
       "      <td>0</td>\n",
       "      <td>0</td>\n",
       "      <td>0</td>\n",
       "      <td>0</td>\n",
       "      <td>0</td>\n",
       "      <td>0</td>\n",
       "      <td>0</td>\n",
       "      <td>0</td>\n",
       "      <td>0</td>\n",
       "      <td>0</td>\n",
       "      <td>0</td>\n",
       "    </tr>\n",
       "    <tr>\n",
       "      <th>2</th>\n",
       "      <td>2015</td>\n",
       "      <td>3</td>\n",
       "      <td>봄</td>\n",
       "      <td>9.187097</td>\n",
       "      <td>15.451613</td>\n",
       "      <td>3.338710</td>\n",
       "      <td>4.919760</td>\n",
       "      <td>1.629032</td>\n",
       "      <td>8.754839</td>\n",
       "      <td>45.496774</td>\n",
       "      <td>2.235484</td>\n",
       "      <td>0</td>\n",
       "      <td>0</td>\n",
       "      <td>1</td>\n",
       "      <td>0</td>\n",
       "      <td>0</td>\n",
       "      <td>0</td>\n",
       "      <td>0</td>\n",
       "      <td>0</td>\n",
       "      <td>0</td>\n",
       "      <td>0</td>\n",
       "      <td>0</td>\n",
       "      <td>0</td>\n",
       "      <td>0</td>\n",
       "      <td>0</td>\n",
       "      <td>0</td>\n",
       "      <td>0</td>\n",
       "      <td>0</td>\n",
       "      <td>0</td>\n",
       "      <td>0</td>\n",
       "      <td>0</td>\n",
       "      <td>0</td>\n",
       "    </tr>\n",
       "    <tr>\n",
       "      <th>3</th>\n",
       "      <td>2015</td>\n",
       "      <td>4</td>\n",
       "      <td>봄</td>\n",
       "      <td>14.556667</td>\n",
       "      <td>20.216667</td>\n",
       "      <td>9.496667</td>\n",
       "      <td>4.755768</td>\n",
       "      <td>2.756667</td>\n",
       "      <td>6.163333</td>\n",
       "      <td>62.770000</td>\n",
       "      <td>2.256667</td>\n",
       "      <td>0</td>\n",
       "      <td>0</td>\n",
       "      <td>0</td>\n",
       "      <td>1</td>\n",
       "      <td>0</td>\n",
       "      <td>0</td>\n",
       "      <td>0</td>\n",
       "      <td>0</td>\n",
       "      <td>0</td>\n",
       "      <td>0</td>\n",
       "      <td>0</td>\n",
       "      <td>0</td>\n",
       "      <td>0</td>\n",
       "      <td>0</td>\n",
       "      <td>0</td>\n",
       "      <td>0</td>\n",
       "      <td>0</td>\n",
       "      <td>1</td>\n",
       "      <td>0</td>\n",
       "      <td>0</td>\n",
       "      <td>1</td>\n",
       "    </tr>\n",
       "    <tr>\n",
       "      <th>4</th>\n",
       "      <td>2015</td>\n",
       "      <td>5</td>\n",
       "      <td>봄</td>\n",
       "      <td>21.693548</td>\n",
       "      <td>27.980645</td>\n",
       "      <td>15.412903</td>\n",
       "      <td>4.919760</td>\n",
       "      <td>1.119355</td>\n",
       "      <td>9.987097</td>\n",
       "      <td>49.274194</td>\n",
       "      <td>2.000000</td>\n",
       "      <td>0</td>\n",
       "      <td>0</td>\n",
       "      <td>0</td>\n",
       "      <td>0</td>\n",
       "      <td>1</td>\n",
       "      <td>0</td>\n",
       "      <td>0</td>\n",
       "      <td>0</td>\n",
       "      <td>0</td>\n",
       "      <td>0</td>\n",
       "      <td>0</td>\n",
       "      <td>0</td>\n",
       "      <td>0</td>\n",
       "      <td>0</td>\n",
       "      <td>0</td>\n",
       "      <td>0</td>\n",
       "      <td>0</td>\n",
       "      <td>0</td>\n",
       "      <td>1</td>\n",
       "      <td>0</td>\n",
       "      <td>1</td>\n",
       "    </tr>\n",
       "  </tbody>\n",
       "</table>\n",
       "</div>"
      ],
      "text/plain": [
       "      년  월  계절       평균기온       최고기온       최저기온      평균운량      일강수량      일조시간  \\\n",
       "0  2015  1  겨울   2.270968   6.812903  -1.719355  4.919760  0.777419  6.706452   \n",
       "1  2015  2  겨울   3.832143   9.035714  -0.589286  4.919760  0.521429  6.982143   \n",
       "2  2015  3   봄   9.187097  15.451613   3.338710  4.919760  1.629032  8.754839   \n",
       "3  2015  4   봄  14.556667  20.216667   9.496667  4.755768  2.756667  6.163333   \n",
       "4  2015  5   봄  21.693548  27.980645  15.412903  4.919760  1.119355  9.987097   \n",
       "\n",
       "        상대습도      평균풍속  월_1  월_2  월_3  월_4  월_5  월_6  월_7  월_8  월_9  월_10  \\\n",
       "0  56.574194  2.032258    1    0    0    0    0    0    0    0    0     0   \n",
       "1  52.585714  2.246429    0    1    0    0    0    0    0    0    0     0   \n",
       "2  45.496774  2.235484    0    0    1    0    0    0    0    0    0     0   \n",
       "3  62.770000  2.256667    0    0    0    1    0    0    0    0    0     0   \n",
       "4  49.274194  2.000000    0    0    0    0    1    0    0    0    0     0   \n",
       "\n",
       "   월_11  월_12  중구  동구  서구  북구  남구  수성구  달서구  달성군  발생여부  \n",
       "0     0     0   1   1   0   0   1    0    0    0     1  \n",
       "1     0     0   0   0   0   0   0    0    0    0     0  \n",
       "2     0     0   0   0   0   0   0    0    0    0     0  \n",
       "3     0     0   0   0   0   0   0    1    0    0     1  \n",
       "4     0     0   0   0   0   0   0    0    1    0     1  "
      ]
     },
     "execution_count": 42,
     "metadata": {},
     "output_type": "execute_result"
    }
   ],
   "source": [
    "data.head()"
   ]
  },
  {
   "cell_type": "code",
   "execution_count": 43,
   "metadata": {},
   "outputs": [
    {
     "name": "stdout",
     "output_type": "stream",
     "text": [
      "<class 'pandas.core.frame.DataFrame'>\n",
      "RangeIndex: 60 entries, 0 to 59\n",
      "Data columns (total 32 columns):\n",
      " #   Column  Non-Null Count  Dtype  \n",
      "---  ------  --------------  -----  \n",
      " 0   년       60 non-null     int64  \n",
      " 1   월       60 non-null     int64  \n",
      " 2   계절      60 non-null     object \n",
      " 3   평균기온    60 non-null     float64\n",
      " 4   최고기온    60 non-null     float64\n",
      " 5   최저기온    60 non-null     float64\n",
      " 6   평균운량    60 non-null     float64\n",
      " 7   일강수량    60 non-null     float64\n",
      " 8   일조시간    60 non-null     float64\n",
      " 9   상대습도    60 non-null     float64\n",
      " 10  평균풍속    60 non-null     float64\n",
      " 11  월_1     60 non-null     int64  \n",
      " 12  월_2     60 non-null     int64  \n",
      " 13  월_3     60 non-null     int64  \n",
      " 14  월_4     60 non-null     int64  \n",
      " 15  월_5     60 non-null     int64  \n",
      " 16  월_6     60 non-null     int64  \n",
      " 17  월_7     60 non-null     int64  \n",
      " 18  월_8     60 non-null     int64  \n",
      " 19  월_9     60 non-null     int64  \n",
      " 20  월_10    60 non-null     int64  \n",
      " 21  월_11    60 non-null     int64  \n",
      " 22  월_12    60 non-null     int64  \n",
      " 23  중구      60 non-null     int64  \n",
      " 24  동구      60 non-null     int64  \n",
      " 25  서구      60 non-null     int64  \n",
      " 26  북구      60 non-null     int64  \n",
      " 27  남구      60 non-null     int64  \n",
      " 28  수성구     60 non-null     int64  \n",
      " 29  달서구     60 non-null     int64  \n",
      " 30  달성군     60 non-null     int64  \n",
      " 31  발생여부    60 non-null     int64  \n",
      "dtypes: float64(8), int64(23), object(1)\n",
      "memory usage: 15.1+ KB\n"
     ]
    }
   ],
   "source": [
    "data.info()"
   ]
  },
  {
   "cell_type": "code",
   "execution_count": 44,
   "metadata": {},
   "outputs": [],
   "source": [
    "data = pd.get_dummies(data, columns=[\"계절\"])"
   ]
  },
  {
   "cell_type": "code",
   "execution_count": 45,
   "metadata": {},
   "outputs": [],
   "source": [
    "x = data\n",
    "y = data.loc[:, [\"발생여부\"]]"
   ]
  },
  {
   "cell_type": "code",
   "execution_count": 46,
   "metadata": {},
   "outputs": [],
   "source": [
    "x.drop([\"발생여부\"], axis=1, inplace=True)"
   ]
  },
  {
   "cell_type": "code",
   "execution_count": 47,
   "metadata": {},
   "outputs": [
    {
     "name": "stdout",
     "output_type": "stream",
     "text": [
      "<class 'pandas.core.frame.DataFrame'>\n",
      "RangeIndex: 60 entries, 0 to 59\n",
      "Data columns (total 34 columns):\n",
      " #   Column  Non-Null Count  Dtype  \n",
      "---  ------  --------------  -----  \n",
      " 0   년       60 non-null     int64  \n",
      " 1   월       60 non-null     int64  \n",
      " 2   평균기온    60 non-null     float64\n",
      " 3   최고기온    60 non-null     float64\n",
      " 4   최저기온    60 non-null     float64\n",
      " 5   평균운량    60 non-null     float64\n",
      " 6   일강수량    60 non-null     float64\n",
      " 7   일조시간    60 non-null     float64\n",
      " 8   상대습도    60 non-null     float64\n",
      " 9   평균풍속    60 non-null     float64\n",
      " 10  월_1     60 non-null     int64  \n",
      " 11  월_2     60 non-null     int64  \n",
      " 12  월_3     60 non-null     int64  \n",
      " 13  월_4     60 non-null     int64  \n",
      " 14  월_5     60 non-null     int64  \n",
      " 15  월_6     60 non-null     int64  \n",
      " 16  월_7     60 non-null     int64  \n",
      " 17  월_8     60 non-null     int64  \n",
      " 18  월_9     60 non-null     int64  \n",
      " 19  월_10    60 non-null     int64  \n",
      " 20  월_11    60 non-null     int64  \n",
      " 21  월_12    60 non-null     int64  \n",
      " 22  중구      60 non-null     int64  \n",
      " 23  동구      60 non-null     int64  \n",
      " 24  서구      60 non-null     int64  \n",
      " 25  북구      60 non-null     int64  \n",
      " 26  남구      60 non-null     int64  \n",
      " 27  수성구     60 non-null     int64  \n",
      " 28  달서구     60 non-null     int64  \n",
      " 29  달성군     60 non-null     int64  \n",
      " 30  계절_가을   60 non-null     uint8  \n",
      " 31  계절_겨울   60 non-null     uint8  \n",
      " 32  계절_봄    60 non-null     uint8  \n",
      " 33  계절_여름   60 non-null     uint8  \n",
      "dtypes: float64(8), int64(22), uint8(4)\n",
      "memory usage: 14.4 KB\n"
     ]
    }
   ],
   "source": [
    "x.info()"
   ]
  },
  {
   "cell_type": "code",
   "execution_count": 48,
   "metadata": {},
   "outputs": [
    {
     "name": "stdout",
     "output_type": "stream",
     "text": [
      "<class 'pandas.core.frame.DataFrame'>\n",
      "RangeIndex: 60 entries, 0 to 59\n",
      "Data columns (total 1 columns):\n",
      " #   Column  Non-Null Count  Dtype\n",
      "---  ------  --------------  -----\n",
      " 0   발생여부    60 non-null     int64\n",
      "dtypes: int64(1)\n",
      "memory usage: 608.0 bytes\n"
     ]
    }
   ],
   "source": [
    "y.info()"
   ]
  },
  {
   "cell_type": "code",
   "execution_count": 49,
   "metadata": {},
   "outputs": [],
   "source": [
    "x_train, x_test, y_train, y_test = train_test_split(x, y, test_size=0.2, random_state=156)"
   ]
  },
  {
   "cell_type": "code",
   "execution_count": 50,
   "metadata": {},
   "outputs": [
    {
     "name": "stdout",
     "output_type": "stream",
     "text": [
      "(48, 34) (12, 34)\n"
     ]
    }
   ],
   "source": [
    "print(x_train.shape, x_test.shape)"
   ]
  },
  {
   "cell_type": "code",
   "execution_count": 51,
   "metadata": {},
   "outputs": [
    {
     "name": "stdout",
     "output_type": "stream",
     "text": [
      "34\n",
      "1\n"
     ]
    }
   ],
   "source": [
    "print(len(x.columns))\n",
    "print(len(y.columns))"
   ]
  },
  {
   "cell_type": "code",
   "execution_count": 76,
   "metadata": {},
   "outputs": [
    {
     "data": {
      "text/plain": [
       "1    44\n",
       "0    16\n",
       "Name: 발생여부, dtype: int64"
      ]
     },
     "execution_count": 76,
     "metadata": {},
     "output_type": "execute_result"
    }
   ],
   "source": [
    "y[\"발생여부\"].value_counts()"
   ]
  },
  {
   "cell_type": "code",
   "execution_count": 52,
   "metadata": {},
   "outputs": [],
   "source": [
    "dtrain = xgb.DMatrix(data=x_train, label=y_train)\n",
    "dtest = xgb.DMatrix(data=x_test, label=y_test)"
   ]
  },
  {
   "cell_type": "code",
   "execution_count": 53,
   "metadata": {},
   "outputs": [],
   "source": [
    "params = {'max_depth':3,\n",
    "         'eta':0.1,\n",
    "         'objective':'binary:logistic',\n",
    "         'eval_metric':'logloss',\n",
    "         'early_stoppings':100}\n",
    "\n",
    "num_rounds=400"
   ]
  },
  {
   "cell_type": "code",
   "execution_count": 54,
   "metadata": {},
   "outputs": [
    {
     "name": "stdout",
     "output_type": "stream",
     "text": [
      "[0]\ttrain-logloss:0.651157\ttest-logloss:0.665051\n",
      "Multiple eval metrics have been passed: 'test-logloss' will be used for early stopping.\n",
      "\n",
      "Will train until test-logloss hasn't improved in 100 rounds.\n",
      "[1]\ttrain-logloss:0.614873\ttest-logloss:0.641203\n",
      "[2]\ttrain-logloss:0.583299\ttest-logloss:0.620814\n",
      "[3]\ttrain-logloss:0.555661\ttest-logloss:0.603275\n",
      "[4]\ttrain-logloss:0.531343\ttest-logloss:0.588102\n",
      "[5]\ttrain-logloss:0.50985\ttest-logloss:0.574911\n",
      "[6]\ttrain-logloss:0.49087\ttest-logloss:0.554488\n",
      "[7]\ttrain-logloss:0.470094\ttest-logloss:0.537651\n",
      "[8]\ttrain-logloss:0.45318\ttest-logloss:0.528191\n",
      "[9]\ttrain-logloss:0.439118\ttest-logloss:0.518101\n",
      "[10]\ttrain-logloss:0.421969\ttest-logloss:0.511442\n",
      "[11]\ttrain-logloss:0.406066\ttest-logloss:0.510912\n",
      "[12]\ttrain-logloss:0.39319\ttest-logloss:0.504642\n",
      "[13]\ttrain-logloss:0.378903\ttest-logloss:0.493548\n",
      "[14]\ttrain-logloss:0.36611\ttest-logloss:0.483681\n",
      "[15]\ttrain-logloss:0.356857\ttest-logloss:0.478517\n",
      "[16]\ttrain-logloss:0.347225\ttest-logloss:0.475445\n",
      "[17]\ttrain-logloss:0.336346\ttest-logloss:0.472473\n",
      "[18]\ttrain-logloss:0.326416\ttest-logloss:0.465138\n",
      "[19]\ttrain-logloss:0.318978\ttest-logloss:0.463024\n",
      "[20]\ttrain-logloss:0.311543\ttest-logloss:0.458188\n",
      "[21]\ttrain-logloss:0.303171\ttest-logloss:0.452581\n",
      "[22]\ttrain-logloss:0.295213\ttest-logloss:0.450036\n",
      "[23]\ttrain-logloss:0.288304\ttest-logloss:0.446539\n",
      "[24]\ttrain-logloss:0.279735\ttest-logloss:0.449057\n",
      "[25]\ttrain-logloss:0.272698\ttest-logloss:0.44819\n",
      "[26]\ttrain-logloss:0.267593\ttest-logloss:0.444422\n",
      "[27]\ttrain-logloss:0.26014\ttest-logloss:0.447136\n",
      "[28]\ttrain-logloss:0.25556\ttest-logloss:0.443665\n",
      "[29]\ttrain-logloss:0.250084\ttest-logloss:0.444771\n",
      "[30]\ttrain-logloss:0.245597\ttest-logloss:0.441727\n",
      "[31]\ttrain-logloss:0.240767\ttest-logloss:0.443318\n",
      "[32]\ttrain-logloss:0.235173\ttest-logloss:0.439144\n",
      "[33]\ttrain-logloss:0.231212\ttest-logloss:0.436974\n",
      "[34]\ttrain-logloss:0.226245\ttest-logloss:0.429568\n",
      "[35]\ttrain-logloss:0.221537\ttest-logloss:0.429779\n",
      "[36]\ttrain-logloss:0.217948\ttest-logloss:0.418335\n",
      "[37]\ttrain-logloss:0.213696\ttest-logloss:0.415568\n",
      "[38]\ttrain-logloss:0.209685\ttest-logloss:0.409542\n",
      "[39]\ttrain-logloss:0.205988\ttest-logloss:0.4074\n",
      "[40]\ttrain-logloss:0.202542\ttest-logloss:0.404923\n",
      "[41]\ttrain-logloss:0.199319\ttest-logloss:0.403311\n",
      "[42]\ttrain-logloss:0.196561\ttest-logloss:0.398537\n",
      "[43]\ttrain-logloss:0.193902\ttest-logloss:0.391471\n",
      "[44]\ttrain-logloss:0.190975\ttest-logloss:0.396906\n",
      "[45]\ttrain-logloss:0.188354\ttest-logloss:0.395802\n",
      "[46]\ttrain-logloss:0.186377\ttest-logloss:0.390368\n",
      "[47]\ttrain-logloss:0.184061\ttest-logloss:0.389645\n",
      "[48]\ttrain-logloss:0.18156\ttest-logloss:0.39643\n",
      "[49]\ttrain-logloss:0.179836\ttest-logloss:0.392973\n",
      "[50]\ttrain-logloss:0.177586\ttest-logloss:0.399635\n",
      "[51]\ttrain-logloss:0.174927\ttest-logloss:0.404521\n",
      "[52]\ttrain-logloss:0.173351\ttest-logloss:0.403218\n",
      "[53]\ttrain-logloss:0.171708\ttest-logloss:0.397498\n",
      "[54]\ttrain-logloss:0.169892\ttest-logloss:0.396983\n",
      "[55]\ttrain-logloss:0.168523\ttest-logloss:0.392889\n",
      "[56]\ttrain-logloss:0.166443\ttest-logloss:0.396972\n",
      "[57]\ttrain-logloss:0.165275\ttest-logloss:0.394166\n",
      "[58]\ttrain-logloss:0.163334\ttest-logloss:0.395658\n",
      "[59]\ttrain-logloss:0.161562\ttest-logloss:0.39068\n",
      "[60]\ttrain-logloss:0.160479\ttest-logloss:0.388859\n",
      "[61]\ttrain-logloss:0.158601\ttest-logloss:0.392998\n",
      "[62]\ttrain-logloss:0.157025\ttest-logloss:0.388403\n",
      "[63]\ttrain-logloss:0.154865\ttest-logloss:0.386124\n",
      "[64]\ttrain-logloss:0.153816\ttest-logloss:0.387461\n",
      "[65]\ttrain-logloss:0.152386\ttest-logloss:0.389232\n",
      "[66]\ttrain-logloss:0.15074\ttest-logloss:0.391043\n",
      "[67]\ttrain-logloss:0.14973\ttest-logloss:0.388741\n",
      "[68]\ttrain-logloss:0.148219\ttest-logloss:0.390669\n",
      "[69]\ttrain-logloss:0.147191\ttest-logloss:0.394118\n",
      "[70]\ttrain-logloss:0.146331\ttest-logloss:0.392071\n",
      "[71]\ttrain-logloss:0.144933\ttest-logloss:0.394074\n",
      "[72]\ttrain-logloss:0.143518\ttest-logloss:0.389956\n",
      "[73]\ttrain-logloss:0.142192\ttest-logloss:0.389458\n",
      "[74]\ttrain-logloss:0.141481\ttest-logloss:0.390865\n",
      "[75]\ttrain-logloss:0.140663\ttest-logloss:0.393708\n",
      "[76]\ttrain-logloss:0.140003\ttest-logloss:0.394526\n",
      "[77]\ttrain-logloss:0.138731\ttest-logloss:0.396741\n",
      "[78]\ttrain-logloss:0.137827\ttest-logloss:0.398071\n",
      "[79]\ttrain-logloss:0.137141\ttest-logloss:0.400905\n",
      "[80]\ttrain-logloss:0.136455\ttest-logloss:0.399273\n",
      "[81]\ttrain-logloss:0.13578\ttest-logloss:0.40292\n",
      "[82]\ttrain-logloss:0.134709\ttest-logloss:0.402365\n",
      "[83]\ttrain-logloss:0.134103\ttest-logloss:0.40321\n",
      "[84]\ttrain-logloss:0.13313\ttest-logloss:0.402712\n",
      "[85]\ttrain-logloss:0.132391\ttest-logloss:0.401808\n",
      "[86]\ttrain-logloss:0.131648\ttest-logloss:0.403992\n",
      "[87]\ttrain-logloss:0.13044\ttest-logloss:0.401164\n",
      "[88]\ttrain-logloss:0.129858\ttest-logloss:0.40464\n",
      "[89]\ttrain-logloss:0.128655\ttest-logloss:0.40652\n",
      "[90]\ttrain-logloss:0.127894\ttest-logloss:0.407887\n",
      "[91]\ttrain-logloss:0.127177\ttest-logloss:0.405747\n",
      "[92]\ttrain-logloss:0.12652\ttest-logloss:0.408026\n",
      "[93]\ttrain-logloss:0.125674\ttest-logloss:0.407703\n",
      "[94]\ttrain-logloss:0.125084\ttest-logloss:0.409924\n",
      "[95]\ttrain-logloss:0.124572\ttest-logloss:0.411705\n",
      "[96]\ttrain-logloss:0.12393\ttest-logloss:0.413031\n",
      "[97]\ttrain-logloss:0.123411\ttest-logloss:0.410705\n",
      "[98]\ttrain-logloss:0.122849\ttest-logloss:0.412929\n",
      "[99]\ttrain-logloss:0.122265\ttest-logloss:0.4148\n",
      "[100]\ttrain-logloss:0.121379\ttest-logloss:0.412403\n",
      "[101]\ttrain-logloss:0.120633\ttest-logloss:0.412202\n",
      "[102]\ttrain-logloss:0.119824\ttest-logloss:0.409944\n",
      "[103]\ttrain-logloss:0.119246\ttest-logloss:0.411348\n",
      "[104]\ttrain-logloss:0.118708\ttest-logloss:0.413358\n",
      "[105]\ttrain-logloss:0.118205\ttest-logloss:0.415577\n",
      "[106]\ttrain-logloss:0.117469\ttest-logloss:0.411328\n",
      "[107]\ttrain-logloss:0.116912\ttest-logloss:0.412749\n",
      "[108]\ttrain-logloss:0.116424\ttest-logloss:0.414784\n",
      "[109]\ttrain-logloss:0.115985\ttest-logloss:0.416763\n",
      "[110]\ttrain-logloss:0.115307\ttest-logloss:0.414685\n",
      "[111]\ttrain-logloss:0.114756\ttest-logloss:0.413802\n",
      "[112]\ttrain-logloss:0.114125\ttest-logloss:0.411821\n",
      "[113]\ttrain-logloss:0.113602\ttest-logloss:0.413255\n",
      "[114]\ttrain-logloss:0.113194\ttest-logloss:0.415354\n",
      "[115]\ttrain-logloss:0.112736\ttest-logloss:0.414251\n",
      "[116]\ttrain-logloss:0.112161\ttest-logloss:0.413096\n",
      "[117]\ttrain-logloss:0.111807\ttest-logloss:0.415041\n",
      "[118]\ttrain-logloss:0.111389\ttest-logloss:0.414385\n",
      "[119]\ttrain-logloss:0.110946\ttest-logloss:0.413326\n",
      "[120]\ttrain-logloss:0.110587\ttest-logloss:0.409533\n",
      "[121]\ttrain-logloss:0.110093\ttest-logloss:0.408934\n",
      "[122]\ttrain-logloss:0.109734\ttest-logloss:0.41113\n",
      "[123]\ttrain-logloss:0.109404\ttest-logloss:0.409879\n",
      "[124]\ttrain-logloss:0.108909\ttest-logloss:0.408887\n",
      "[125]\ttrain-logloss:0.108487\ttest-logloss:0.407927\n",
      "[126]\ttrain-logloss:0.10816\ttest-logloss:0.404355\n",
      "[127]\ttrain-logloss:0.10769\ttest-logloss:0.405976\n",
      "[128]\ttrain-logloss:0.107345\ttest-logloss:0.40821\n",
      "[129]\ttrain-logloss:0.107035\ttest-logloss:0.410365\n",
      "[130]\ttrain-logloss:0.106727\ttest-logloss:0.409155\n",
      "[131]\ttrain-logloss:0.106571\ttest-logloss:0.408289\n",
      "[132]\ttrain-logloss:0.106245\ttest-logloss:0.411472\n",
      "[133]\ttrain-logloss:0.105954\ttest-logloss:0.41031\n",
      "[134]\ttrain-logloss:0.105804\ttest-logloss:0.409481\n",
      "[135]\ttrain-logloss:0.105436\ttest-logloss:0.40865\n",
      "[136]\ttrain-logloss:0.104971\ttest-logloss:0.407737\n",
      "[137]\ttrain-logloss:0.104773\ttest-logloss:0.410045\n",
      "[138]\ttrain-logloss:0.104659\ttest-logloss:0.40953\n",
      "[139]\ttrain-logloss:0.104471\ttest-logloss:0.411791\n",
      "[140]\ttrain-logloss:0.104361\ttest-logloss:0.411284\n",
      "[141]\ttrain-logloss:0.104112\ttest-logloss:0.409333\n",
      "[142]\ttrain-logloss:0.103685\ttest-logloss:0.408467\n",
      "[143]\ttrain-logloss:0.103245\ttest-logloss:0.410028\n",
      "[144]\ttrain-logloss:0.103069\ttest-logloss:0.412248\n",
      "[145]\ttrain-logloss:0.102712\ttest-logloss:0.411709\n",
      "[146]\ttrain-logloss:0.102542\ttest-logloss:0.411988\n",
      "[147]\ttrain-logloss:0.102189\ttest-logloss:0.411127\n",
      "[148]\ttrain-logloss:0.101851\ttest-logloss:0.410167\n",
      "[149]\ttrain-logloss:0.101679\ttest-logloss:0.412367\n",
      "[150]\ttrain-logloss:0.101358\ttest-logloss:0.41184\n",
      "[151]\ttrain-logloss:0.101046\ttest-logloss:0.414915\n",
      "[152]\ttrain-logloss:0.100733\ttest-logloss:0.413975\n",
      "[153]\ttrain-logloss:0.100563\ttest-logloss:0.414267\n",
      "[154]\ttrain-logloss:0.100404\ttest-logloss:0.416379\n",
      "[155]\ttrain-logloss:0.100099\ttest-logloss:0.415416\n",
      "[156]\ttrain-logloss:0.099939\ttest-logloss:0.415669\n",
      "[157]\ttrain-logloss:0.099654\ttest-logloss:0.418601\n",
      "[158]\ttrain-logloss:0.099439\ttest-logloss:0.418961\n",
      "[159]\ttrain-logloss:0.099197\ttest-logloss:0.420218\n",
      "[160]\ttrain-logloss:0.098903\ttest-logloss:0.419281\n",
      "[161]\ttrain-logloss:0.098752\ttest-logloss:0.419593\n",
      "[162]\ttrain-logloss:0.098392\ttest-logloss:0.421127\n",
      "[163]\ttrain-logloss:0.098244\ttest-logloss:0.4214\n",
      "Stopping. Best iteration:\n",
      "[63]\ttrain-logloss:0.154865\ttest-logloss:0.386124\n",
      "\n"
     ]
    }
   ],
   "source": [
    "w_list = [(dtrain,'train'),(dtest,'test')]\n",
    "xgb_model = xgb.train(params=params, dtrain=dtrain, num_boost_round=num_rounds,\\\n",
    "                  early_stopping_rounds=100, evals=w_list)"
   ]
  },
  {
   "cell_type": "code",
   "execution_count": 55,
   "metadata": {},
   "outputs": [
    {
     "name": "stdout",
     "output_type": "stream",
     "text": [
      "predict() 수행 결과값을 10개만 표시, 예측 확률 값으로 표시됨\n",
      "[0.685 0.456 0.842 0.759 0.904 0.136 0.499 0.604 0.846 0.905]\n",
      "예측값 10개만 표시:  [1, 0, 1, 1, 1, 0, 0, 1, 1, 1]\n"
     ]
    }
   ],
   "source": [
    "pred_probs = xgb_model.predict(dtest)\n",
    "print('predict() 수행 결과값을 10개만 표시, 예측 확률 값으로 표시됨')\n",
    "print(np.round(pred_probs[:10], 3))\n",
    "\n",
    "# 예측 확률이 0.5보다 크면 1, 그렇지 않으면 0으로 예측값 결정해 리스트 객체인 preds에 저장\n",
    "preds = [ 1 if x > 0.5 else 0 for x in pred_probs]\n",
    "print('예측값 10개만 표시: ', preds[:10])"
   ]
  },
  {
   "cell_type": "code",
   "execution_count": 80,
   "metadata": {},
   "outputs": [],
   "source": [
    "def get_clf_eval(y_test, y_pred):\n",
    "    confusion = confusion_matrix(y_test, y_pred)\n",
    "    accuracy = accuracy_score(y_test, y_pred)\n",
    "    precision = precision_score(y_test, y_pred)\n",
    "    recall = recall_score(y_test, y_pred)\n",
    "    F1 = f1_score(y_test, y_pred)\n",
    "    AUC = roc_auc_score(y_test, y_pred)\n",
    "    print('오차행렬:\\n', confusion)\n",
    "    print('\\n정확도: {:.4f}'.format(accuracy))\n",
    "    print('정밀도: {:.4f}'.format(precision))\n",
    "    print('재현율: {:.4f}'.format(recall))\n",
    "    print('F1: {:.4f}'.format(F1))\n",
    "    print('AUC: {:.4f}'.format(AUC))\n"
   ]
  },
  {
   "cell_type": "code",
   "execution_count": 81,
   "metadata": {},
   "outputs": [
    {
     "name": "stdout",
     "output_type": "stream",
     "text": [
      "오차행렬:\n",
      " [[2 0]\n",
      " [1 9]]\n",
      "\n",
      "정확도: 0.9167\n",
      "정밀도: 1.0000\n",
      "재현율: 0.9000\n",
      "F1: 0.9474\n",
      "AUC: 0.9500\n"
     ]
    }
   ],
   "source": [
    "get_clf_eval(y_test, preds)"
   ]
  },
  {
   "cell_type": "code",
   "execution_count": 82,
   "metadata": {},
   "outputs": [
    {
     "data": {
      "text/html": [
       "<div>\n",
       "<style scoped>\n",
       "    .dataframe tbody tr th:only-of-type {\n",
       "        vertical-align: middle;\n",
       "    }\n",
       "\n",
       "    .dataframe tbody tr th {\n",
       "        vertical-align: top;\n",
       "    }\n",
       "\n",
       "    .dataframe thead th {\n",
       "        text-align: right;\n",
       "    }\n",
       "</style>\n",
       "<table border=\"1\" class=\"dataframe\">\n",
       "  <thead>\n",
       "    <tr style=\"text-align: right;\">\n",
       "      <th></th>\n",
       "      <th>발생여부</th>\n",
       "    </tr>\n",
       "  </thead>\n",
       "  <tbody>\n",
       "    <tr>\n",
       "      <th>39</th>\n",
       "      <td>1</td>\n",
       "    </tr>\n",
       "    <tr>\n",
       "      <th>46</th>\n",
       "      <td>0</td>\n",
       "    </tr>\n",
       "    <tr>\n",
       "      <th>28</th>\n",
       "      <td>1</td>\n",
       "    </tr>\n",
       "    <tr>\n",
       "      <th>26</th>\n",
       "      <td>1</td>\n",
       "    </tr>\n",
       "    <tr>\n",
       "      <th>9</th>\n",
       "      <td>1</td>\n",
       "    </tr>\n",
       "    <tr>\n",
       "      <th>49</th>\n",
       "      <td>1</td>\n",
       "    </tr>\n",
       "    <tr>\n",
       "      <th>57</th>\n",
       "      <td>0</td>\n",
       "    </tr>\n",
       "    <tr>\n",
       "      <th>7</th>\n",
       "      <td>1</td>\n",
       "    </tr>\n",
       "    <tr>\n",
       "      <th>3</th>\n",
       "      <td>1</td>\n",
       "    </tr>\n",
       "    <tr>\n",
       "      <th>6</th>\n",
       "      <td>1</td>\n",
       "    </tr>\n",
       "    <tr>\n",
       "      <th>4</th>\n",
       "      <td>1</td>\n",
       "    </tr>\n",
       "    <tr>\n",
       "      <th>41</th>\n",
       "      <td>1</td>\n",
       "    </tr>\n",
       "  </tbody>\n",
       "</table>\n",
       "</div>"
      ],
      "text/plain": [
       "    발생여부\n",
       "39     1\n",
       "46     0\n",
       "28     1\n",
       "26     1\n",
       "9      1\n",
       "49     1\n",
       "57     0\n",
       "7      1\n",
       "3      1\n",
       "6      1\n",
       "4      1\n",
       "41     1"
      ]
     },
     "execution_count": 82,
     "metadata": {},
     "output_type": "execute_result"
    }
   ],
   "source": [
    "y_test"
   ]
  },
  {
   "cell_type": "code",
   "execution_count": 85,
   "metadata": {},
   "outputs": [
    {
     "data": {
      "text/plain": [
       "[1, 0, 1, 1, 1, 0, 0, 1, 1, 1, 1, 1]"
      ]
     },
     "execution_count": 85,
     "metadata": {},
     "output_type": "execute_result"
    }
   ],
   "source": [
    "preds"
   ]
  },
  {
   "cell_type": "code",
   "execution_count": 86,
   "metadata": {},
   "outputs": [
    {
     "name": "stdout",
     "output_type": "stream",
     "text": [
      "              precision    recall  f1-score   support\n",
      "\n",
      "         발생X       0.67      1.00      0.80         2\n",
      "         발생O       1.00      0.90      0.95        10\n",
      "\n",
      "    accuracy                           0.92        12\n",
      "   macro avg       0.83      0.95      0.87        12\n",
      "weighted avg       0.94      0.92      0.92        12\n",
      "\n"
     ]
    }
   ],
   "source": [
    "from sklearn.metrics import classification_report\n",
    "print(classification_report(y_test, preds, target_names=['발생X', '발생O']))"
   ]
  },
  {
   "cell_type": "code",
   "execution_count": 87,
   "metadata": {},
   "outputs": [],
   "source": [
    "import matplotlib.pyplot as plt\n",
    "from matplotlib import rc\n",
    "import seaborn as sns\n",
    "rc('font', family='AppleGothic')\n",
    "\n",
    "plt.rcParams['axes.unicode_minus'] = False"
   ]
  },
  {
   "cell_type": "code",
   "execution_count": 88,
   "metadata": {},
   "outputs": [
    {
     "data": {
      "text/plain": [
       "<matplotlib.axes._subplots.AxesSubplot at 0x7fdcbcb17748>"
      ]
     },
     "execution_count": 88,
     "metadata": {},
     "output_type": "execute_result"
    },
    {
     "data": {
      "image/png": "[encoded data removed]",
      "text/plain": [
       "<Figure size 720x864 with 1 Axes>"
      ]
     },
     "metadata": {
      "needs_background": "light"
     },
     "output_type": "display_data"
    }
   ],
   "source": [
    "from xgboost import plot_importance\n",
    "%matplotlib inline\n",
    "\n",
    "fig, ax = plt.subplots(figsize=(10, 12))\n",
    "plot_importance(xgb_model, ax=ax)"
   ]
  }
 ],
 "metadata": {
  "kernelspec": {
   "display_name": "Python 3",
   "language": "python",
   "name": "python3"
  },
  "language_info": {
   "codemirror_mode": {
    "name": "ipython",
    "version": 3
   },
   "file_extension": ".py",
   "mimetype": "text/x-python",
   "name": "python",
   "nbconvert_exporter": "python",
   "pygments_lexer": "ipython3",
   "version": "3.7.3"
  }
 },
 "nbformat": 4,
 "nbformat_minor": 4
}
